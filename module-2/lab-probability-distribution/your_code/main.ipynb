{
 "cells": [
  {
   "cell_type": "markdown",
   "metadata": {},
   "source": [
    "# Before your start:\n",
    "- Read the README.md file\n",
    "- Comment as much as you can and use the resources (README.md file)\n",
    "- Happy learning!"
   ]
  },
  {
   "cell_type": "code",
   "execution_count": 99,
   "metadata": {},
   "outputs": [],
   "source": [
    "# Import your libraries\n",
    "import numpy as np\n",
    "import pandas as pd\n",
    "from scipy.stats import stats\n",
    "import matplotlib.pyplot as plt\n",
    "from scipy.stats import binom\n",
    "import seaborn as sns\n",
    "from scipy.stats import poisson\n"
   ]
  },
  {
   "cell_type": "markdown",
   "metadata": {},
   "source": [
    "# Challenge 1 - Generate and Plot Normal Distributions"
   ]
  },
  {
   "cell_type": "markdown",
   "metadata": {},
   "source": [
    "#### Step 1: Generate samples and test normal distribution\n",
    "\n",
    "Use mean=50, standard_deviation=5, and sample_size=[10, 50, 500, 5000] to generate 4 random samples that are normally distributed. Test your normal distributions with [`scipy.stats.normaltest`](https://docs.scipy.org/doc/scipy/reference/generated/scipy.stats.normaltest.html).\n",
    "\n",
    "\n",
    "*Hint: Read the documentation for `scipy.stats.normaltest`. The function does not simply return Yes or No for whether your data is normal distribution. It returns the likelihood.*"
   ]
  },
  {
   "cell_type": "code",
   "execution_count": 14,
   "metadata": {},
   "outputs": [
    {
     "name": "stdout",
     "output_type": "stream",
     "text": [
      "[45.92143681 55.02322618 48.36182515 50.02204996 40.160883   44.41132206\n",
      " 48.32168994 53.51818226 50.74276337 49.58018103]\n",
      "[41.78471476 56.61535553 58.01568328 51.62520027 54.24039781 45.91216886\n",
      " 51.40895166 45.36703279 48.38380594 58.66941141]\n",
      "[45.10526313 55.85760182 41.66363914 49.40079761 47.18980906 50.67145593\n",
      " 42.01499171 46.77381663 53.68193798 50.71359348]\n",
      "[43.52882181 45.76110841 50.84443351 52.06419746 44.32165395 49.27116241\n",
      " 51.6138621  57.78669811 54.71740494 48.57654112]\n"
     ]
    },
    {
     "data": {
      "text/plain": [
       "array([52.55235255, 46.80597084, 46.71061602, ..., 47.02949634,\n",
       "       43.98078049, 45.56467925])"
      ]
     },
     "execution_count": 14,
     "metadata": {},
     "output_type": "execute_result"
    }
   ],
   "source": [
    "# Your code here\n",
    "# Random variable X (samples from Normal distribution)\n",
    "\n",
    "mean = 50\n",
    "standard_deviation = 5\n",
    "sample_1 = 10\n",
    "sample_2 = 50\n",
    "sample_3 = 500\n",
    "sample_4 = 5000\n",
    "\n",
    "#Media = loc , scale= std ,  size = muestra\n",
    "rs1 = np.random.normal(loc = mean, scale = standard_deviation, size = sample_1) \n",
    "rs2 = np.random.normal(loc = mean, scale = standard_deviation, size = sample_2) \n",
    "rs3 = np.random.normal(loc = mean, scale = standard_deviation, size = sample_3) \n",
    "rs4 = np.random.normal(loc = mean, scale = standard_deviation, size = sample_4)\n",
    "\n",
    "print(rs1) \n",
    "print(rs2[:10]) \n",
    "print(rs3[:10])\n",
    "print(rs4[:10])\n",
    "\n",
    "norm.rvs(size = sample_1 , loc = mean , scale = standard_deviation)\n",
    "norm.rvs(size = sample_2 , loc = mean , scale = standard_deviation)\n",
    "norm.rvs(size = sample_3 , loc = mean , scale = standard_deviation)\n",
    "norm.rvs(size = sample_4 , loc = mean , scale = standard_deviation)"
   ]
  },
  {
   "cell_type": "code",
   "execution_count": 34,
   "metadata": {},
   "outputs": [
    {
     "name": "stdout",
     "output_type": "stream",
     "text": [
      "[[0.87486584 0.64569184]\n",
      " [0.98265301 0.61181428]\n",
      " [7.20907094 0.02720008]\n",
      " [3.83973452 0.14662642]]\n"
     ]
    }
   ],
   "source": [
    "rs1t = stats.normaltest(rs1)\n",
    "rs2t = stats.normaltest(rs2)\n",
    "rs3t = stats.normaltest(rs3)\n",
    "rs4t = stats.normaltest(rs4)\n",
    "rs_total = np.concatenate(([rs1t], [rs2t], [rs3t], [rs4t]))\n",
    "print(rs_total)\n"
   ]
  },
  {
   "cell_type": "code",
   "execution_count": null,
   "metadata": {},
   "outputs": [],
   "source": []
  },
  {
   "cell_type": "code",
   "execution_count": null,
   "metadata": {},
   "outputs": [],
   "source": [
    "'''\n",
    "rs_total = [rs1t , rs2t , rs3t , rs4t]\n",
    "rs_total\n",
    "for i in rs_total : \n",
    "    if pvalue < 0.05 :  \n",
    "         print(\"This sample does not follow a normal distribution\")\n",
    "    else:\n",
    "         print(\"Cannot conclude the data do not follow a normal distribution\")'''\n",
    "\n",
    "# Esto es un intento de un condicional para que nos devolviese la interpretacion de cada sample."
   ]
  },
  {
   "cell_type": "markdown",
   "metadata": {},
   "source": [
    "#### Interpret the normaltest results and make your observations."
   ]
  },
  {
   "cell_type": "raw",
   "metadata": {},
   "source": [
    "Los sample que su pvalue sea inferior a 0.05, no siguen una distribucion normal, en cambio los que no lo sea, \n",
    "no podemos decir que no siga una distribucion normal. \n"
   ]
  },
  {
   "cell_type": "markdown",
   "metadata": {},
   "source": [
    "#### Step 2: Plot normal distributions\n",
    "\n",
    "Use matplotlib subplots to plot a histogram of each sample. \n",
    "\n",
    "*Hints:*\n",
    "- Use subplots to compare your figures side by side.\n",
    "\n",
    "- Your output should look like below:\n",
    "\n",
    "![normal distributions with different sample sizes](ch-1.png)"
   ]
  },
  {
   "cell_type": "code",
   "execution_count": 57,
   "metadata": {},
   "outputs": [
    {
     "data": {
      "image/png": "[encoded data removed]",
      "text/plain": [
       "<Figure size 1440x360 with 4 Axes>"
      ]
     },
     "metadata": {
      "needs_background": "light"
     },
     "output_type": "display_data"
    }
   ],
   "source": [
    "# Your code here\n",
    "\n",
    "fig, axes = plt.subplots(1,4, figsize = (20.0, 5.0))\n",
    "axes[0].hist(rs1)\n",
    "axes[0].title.set_text('n=10')\n",
    "axes[1].hist(rs2)\n",
    "axes[1].title.set_text('n=50')\n",
    "axes[2].hist(rs2)\n",
    "axes[2].title.set_text('n=500')\n",
    "axes[3].hist(rs2)\n",
    "axes[3].title.set_text('n=5000')"
   ]
  },
  {
   "cell_type": "markdown",
   "metadata": {},
   "source": [
    "#### Compare the distributions above. What do you observe? Explain with the Central Limit Theorem."
   ]
  },
  {
   "cell_type": "raw",
   "metadata": {},
   "source": [
    "Con estos graficos podemos observar que a medida que aumenta el tamaño de la muestra, se aproxima mas a la media."
   ]
  },
  {
   "cell_type": "markdown",
   "metadata": {},
   "source": [
    "# Challenge 2 - Plot Probability Mass Function (PMF)"
   ]
  },
  {
   "cell_type": "markdown",
   "metadata": {},
   "source": [
    "#### Background knowledge\n",
    "\n",
    "[PMF](https://en.wikipedia.org/wiki/Probability_mass_function) shows the probability distribution of a **discrete random variable**. A [discrete random variable](https://en.wikipedia.org/wiki/Random_variable#Discrete_random_variable) has random numeric values that are not continuous. For example, the number of people in a household can only be integers but not floats. Therefore the number of people in a household is a discrete variable.\n",
    "\n",
    "#### Question: We assume that the probability of clicking an Ad in a Youtube video is 0.15. We have a sample of 5 people who wathched the video and we want to plot the PMF for a binomial distribution.\n",
    "\n",
    "*Hint: use binom from `scipy.stats.binom`. Your output should look like below:*\n",
    "\n",
    "![binom 10](ch-2.png)"
   ]
  },
  {
   "cell_type": "code",
   "execution_count": 87,
   "metadata": {},
   "outputs": [
    {
     "data": {
      "text/plain": [
       "<function matplotlib.pyplot.show(close=None, block=None)>"
      ]
     },
     "execution_count": 87,
     "metadata": {},
     "output_type": "execute_result"
    },
    {
     "data": {
      "image/png": "[encoded data removed]",
      "text/plain": [
       "<Figure size 432x288 with 1 Axes>"
      ]
     },
     "metadata": {
      "needs_background": "light"
     },
     "output_type": "display_data"
    }
   ],
   "source": [
    "# Your code here\n",
    "\n",
    "n = 5\n",
    "p = 0.15 \n",
    "x = range(1,6)\n",
    "\n",
    "data_binom = binom.pmf(x,n,p)\n",
    "\n",
    "plt.plot(data_binom)\n",
    "plt.show"
   ]
  },
  {
   "cell_type": "markdown",
   "metadata": {},
   "source": [
    "#### Explain what you observe from the plot above"
   ]
  },
  {
   "cell_type": "raw",
   "metadata": {},
   "source": [
    "En el grafico de arriba podemos observar que lo mas probable es que si cinco personas ven un video, solamente una persona clique en el anuncio. "
   ]
  },
  {
   "cell_type": "markdown",
   "metadata": {},
   "source": [
    "#### Now plot PMF with 50, 500, and 5000 visitors."
   ]
  },
  {
   "cell_type": "code",
   "execution_count": 89,
   "metadata": {},
   "outputs": [],
   "source": [
    "# Your code here\n",
    "p = 0.15"
   ]
  },
  {
   "cell_type": "code",
   "execution_count": 93,
   "metadata": {},
   "outputs": [
    {
     "data": {
      "text/plain": [
       "<function matplotlib.pyplot.show(close=None, block=None)>"
      ]
     },
     "execution_count": 93,
     "metadata": {},
     "output_type": "execute_result"
    },
    {
     "data": {
      "image/png": "[encoded data removed]",
      "text/plain": [
       "<Figure size 432x288 with 1 Axes>"
      ]
     },
     "metadata": {
      "needs_background": "light"
     },
     "output_type": "display_data"
    }
   ],
   "source": [
    "#With 50\n",
    "n = 50\n",
    "x = range(50)\n",
    "data_binom_50 = binom.pmf(x,n,p)\n",
    "plt.plot(data_binom_50)\n",
    "plt.show"
   ]
  },
  {
   "cell_type": "code",
   "execution_count": 94,
   "metadata": {},
   "outputs": [
    {
     "data": {
      "text/plain": [
       "<function matplotlib.pyplot.show(close=None, block=None)>"
      ]
     },
     "execution_count": 94,
     "metadata": {},
     "output_type": "execute_result"
    },
    {
     "data": {
      "image/png": "[encoded data removed]",
      "text/plain": [
       "<Figure size 432x288 with 1 Axes>"
      ]
     },
     "metadata": {
      "needs_background": "light"
     },
     "output_type": "display_data"
    }
   ],
   "source": [
    "#With 500\n",
    "n = 500\n",
    "x = range(500)\n",
    "data_binom_500 = binom.pmf(x,n,p)\n",
    "plt.plot(data_binom_500)\n",
    "plt.show"
   ]
  },
  {
   "cell_type": "code",
   "execution_count": 95,
   "metadata": {},
   "outputs": [
    {
     "data": {
      "text/plain": [
       "<function matplotlib.pyplot.show(close=None, block=None)>"
      ]
     },
     "execution_count": 95,
     "metadata": {},
     "output_type": "execute_result"
    },
    {
     "data": {
      "image/png": "[encoded data removed]",
      "text/plain": [
       "<Figure size 432x288 with 1 Axes>"
      ]
     },
     "metadata": {
      "needs_background": "light"
     },
     "output_type": "display_data"
    }
   ],
   "source": [
    "#With 5000\n",
    "n = 5000\n",
    "x = range(5000)\n",
    "data_binom_5000 = binom.pmf(x,n,p)\n",
    "plt.plot(data_binom_5000)\n",
    "plt.show"
   ]
  },
  {
   "cell_type": "code",
   "execution_count": 98,
   "metadata": {},
   "outputs": [
    {
     "data": {
      "text/plain": [
       "<function matplotlib.pyplot.show(close=None, block=None)>"
      ]
     },
     "execution_count": 98,
     "metadata": {},
     "output_type": "execute_result"
    },
    {
     "data": {
      "image/png": "[encoded data removed]",
      "text/plain": [
       "<Figure size 432x288 with 1 Axes>"
      ]
     },
     "metadata": {
      "needs_background": "light"
     },
     "output_type": "display_data"
    }
   ],
   "source": [
    "#Esto lo hemos hecho para facilitar la interpretación. \n",
    "n = 10\n",
    "x = range(10)\n",
    "data_binom = binom.pmf(x,n,p)\n",
    "plt.plot(data_binom)\n",
    "plt.show"
   ]
  },
  {
   "cell_type": "markdown",
   "metadata": {},
   "source": [
    "#### What did you notice from the distribution plots? Comment your findings."
   ]
  },
  {
   "cell_type": "raw",
   "metadata": {},
   "source": [
    "Podemos observar que aunque la muestra aumente, la cantidad de gente que va a clicar está en el mismo rango\n",
    "proporcional a la gente que vea el video. "
   ]
  },
  {
   "cell_type": "markdown",
   "metadata": {},
   "source": [
    "# Challenge 3"
   ]
  },
  {
   "cell_type": "markdown",
   "metadata": {},
   "source": [
    "#### Reaserch the Poisson distribution. Write about your own understanding of the Poisson distribution."
   ]
  },
  {
   "cell_type": "raw",
   "metadata": {},
   "source": [
    "Es una distribución de probabilidad discreta que expresa, la probabilidad de que ocurra un determinado \n",
    "número de eventos durante cierto período de tiempo. Los sucesos son independientes y ocurren durante un\n",
    "intervalo de tiempo dado, por ejemplo el numero de labs que puede hacer un alumno de Data08/2020 durante las\n",
    "nueve semanas de bootcamp o el numero de veces que un alumno puede preguntar a Amanda durante la clase por Slack porque se ha perdido. "
   ]
  },
  {
   "cell_type": "markdown",
   "metadata": {},
   "source": [
    "#### A website has an average of 300 visits per day. What is the probability of getting 320 visitors in a day?\n",
    "\n",
    "*Hint: use `scipy.stats.poisson`*"
   ]
  },
  {
   "cell_type": "code",
   "execution_count": 114,
   "metadata": {},
   "outputs": [
    {
     "name": "stdout",
     "output_type": "stream",
     "text": [
      "0.011612348610402475\n"
     ]
    }
   ],
   "source": [
    "# Your code here\n",
    "\n",
    "x = poisson.pmf(320,300)\n",
    "print(x)"
   ]
  },
  {
   "cell_type": "markdown",
   "metadata": {},
   "source": [
    "#### What is the probability of getting 60 visits?"
   ]
  },
  {
   "cell_type": "code",
   "execution_count": 116,
   "metadata": {},
   "outputs": [
    {
     "name": "stdout",
     "output_type": "stream",
     "text": [
      "2.622743762294515e-64\n",
      "0\n"
     ]
    }
   ],
   "source": [
    "# Your code here\n",
    "x = poisson.pmf(60,300)\n",
    "print(x)\n",
    "print(int(x))"
   ]
  },
  {
   "cell_type": "markdown",
   "metadata": {},
   "source": [
    "#### Plot the distribution of the probability for getting 0-1000 visits.\n",
    "\n",
    "*Hints:* \n",
    "\n",
    "- Create a list to store the Poisson distribution probabilities for n=0 to 1000. Then plot the probabilities.\n",
    "\n",
    "- Your plot should look like below:\n",
    "\n",
    "![poisson distribution](ch-3.png)"
   ]
  },
  {
   "cell_type": "code",
   "execution_count": 118,
   "metadata": {},
   "outputs": [
    {
     "data": {
      "text/plain": [
       "[<matplotlib.lines.Line2D at 0x122c3d760>]"
      ]
     },
     "execution_count": 118,
     "metadata": {},
     "output_type": "execute_result"
    },
    {
     "data": {
      "image/png": "[encoded data removed]",
      "text/plain": [
       "<Figure size 432x288 with 1 Axes>"
      ]
     },
     "metadata": {
      "needs_background": "light"
     },
     "output_type": "display_data"
    }
   ],
   "source": [
    "# your code here\n",
    "\n",
    "rango =range(1001)\n",
    "\n",
    "z = poisson.pmf(rango,300)\n",
    "\n",
    "plt.plot(z)\n"
   ]
  },
  {
   "cell_type": "code",
   "execution_count": null,
   "metadata": {},
   "outputs": [],
   "source": []
  }
 ],
 "metadata": {
  "anaconda-cloud": {},
  "kernelspec": {
   "display_name": "Python 3",
   "language": "python",
   "name": "python3"
  },
  "language_info": {
   "codemirror_mode": {
    "name": "ipython",
    "version": 3
   },
   "file_extension": ".py",
   "mimetype": "text/x-python",
   "name": "python",
   "nbconvert_exporter": "python",
   "pygments_lexer": "ipython3",
   "version": "3.8.5"
  }
 },
 "nbformat": 4,
 "nbformat_minor": 1
}
