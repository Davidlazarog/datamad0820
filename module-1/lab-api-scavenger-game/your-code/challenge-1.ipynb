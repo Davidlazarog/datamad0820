{
 "cells": [
  {
   "cell_type": "code",
   "execution_count": 32,
   "metadata": {},
   "outputs": [],
   "source": [
    "import json\n",
    "import requests\n",
    "import os \n",
    "from dotenv import load_dotenv\n",
    "load_dotenv()\n",
    "import re\n",
    "import base64"
   ]
  },
  {
   "cell_type": "markdown",
   "metadata": {},
   "source": [
    "# Challenge 1"
   ]
  },
  {
   "cell_type": "code",
   "execution_count": 2,
   "metadata": {},
   "outputs": [],
   "source": [
    "def get_gh_v3(endpoint, apiKey=os.getenv(\"GITHUB_APIKEY\"), query_params={}): \n",
    "    \"\"\"\n",
    "    Get data from github using query parameters and passing a custom apikey header\n",
    "    \"\"\"\n",
    "    \n",
    "    # Compose the endpoint url\n",
    "    baseUrl = \"https://api.github.com\"\n",
    "    url = f\"{baseUrl}{endpoint}\"\n",
    "\n",
    "    # Create the headers\n",
    "    headers = {\n",
    "        \"Authorization\": f\"Bearer {apiKey}\"\n",
    "    }\n",
    "    # make the request and get the response using HTTP GET verb \n",
    "    res = requests.get(url, params=query_params, headers=headers)\n",
    "    print(f\"Request data to {res.url} status_code:{res.status_code}\")\n",
    "    \n",
    "    data = res.json()\n",
    "    return data"
   ]
  },
  {
   "cell_type": "code",
   "execution_count": 3,
   "metadata": {},
   "outputs": [
    {
     "name": "stdout",
     "output_type": "stream",
     "text": [
      "Request data to https://api.github.com/repos/ironhack-datalabs/datamad0820/forks?per_page=100 status_code:200\n",
      "['https://api.github.com/repos/Gon41/datamad0820/forks', 'https://api.github.com/repos/VanessaMacC/datamad0820/forks', 'https://api.github.com/repos/Joycelili/datamad0820/forks', 'https://api.github.com/repos/DiegoCaulonga/datamad0820/forks', 'https://api.github.com/repos/miguelgimenezgimenez/datamad0820/forks', 'https://api.github.com/repos/Alvere/datamad0820/forks', 'https://api.github.com/repos/MigeruDono/datamad0820/forks', 'https://api.github.com/repos/Diegon8/datamad0820/forks', 'https://api.github.com/repos/PaulaNuno/datamad0820/forks', 'https://api.github.com/repos/ferrero-felipe/datamad0820/forks', 'https://api.github.com/repos/grundius1/datamad0820/forks', 'https://api.github.com/repos/Jav1-Mart1nez/datamad0820/forks', 'https://api.github.com/repos/charliesket/datamad0820/forks', 'https://api.github.com/repos/laura290/datamad0820/forks', 'https://api.github.com/repos/marta-zavala/datamad0820/forks', 'https://api.github.com/repos/FDELTA/datamad0820/forks', 'https://api.github.com/repos/CarlosSanzDGP/datamad0820/forks', 'https://api.github.com/repos/bmedm/datamad0820/forks', 'https://api.github.com/repos/Davidlazarog/datamad0820/forks', 'https://api.github.com/repos/AnaMA96/datamad0820/forks', 'https://api.github.com/repos/rfminguez/datamad0820/forks', 'https://api.github.com/repos/gontzalm/datamad0820/forks', 'https://api.github.com/repos/jmena23/datamad0820/forks', 'https://api.github.com/repos/jorge-alamillos/datamad0820/forks', 'https://api.github.com/repos/silviaherf/datamad0820/forks', 'https://api.github.com/repos/KevsDe/datamad0820/forks', 'https://api.github.com/repos/IreneLopezLujan/datamad0820/forks', 'https://api.github.com/repos/Daniel-GarciaGarcia/datamad0820/forks']\n"
     ]
    }
   ],
   "source": [
    "data = get_gh_v3('/repos/ironhack-datalabs/datamad0820/forks',query_params=({\"per_page\":100}))\n",
    "forks = [d[\"forks_url\"] for d in data]\n",
    "print(forks)\n",
    "#print(len(repos))\n",
    "#print(data)"
   ]
  },
  {
   "cell_type": "code",
   "execution_count": 4,
   "metadata": {},
   "outputs": [
    {
     "name": "stdout",
     "output_type": "stream",
     "text": [
      "['Jupyter Notebook', None]\n"
     ]
    }
   ],
   "source": [
    "\n",
    "leng = [d[\"language\"] for d in data]\n",
    "leng = list(set(leng))\n",
    "print(leng)"
   ]
  },
  {
   "cell_type": "markdown",
   "metadata": {},
   "source": [
    "# Challenge 2"
   ]
  },
  {
   "cell_type": "code",
   "execution_count": 5,
   "metadata": {},
   "outputs": [
    {
     "name": "stdout",
     "output_type": "stream",
     "text": [
      "Request data to https://api.github.com/repos/ironhack-datalabs/datamad0820/commits?per_page=100 status_code:200\n"
     ]
    },
    {
     "data": {
      "text/plain": [
       "[{'sha': '1369c4b0617a22ec789d04cb2cac81fe7a155fbd',\n",
       "  'node_id': 'MDY6Q29tbWl0Mjg4MTU0Mzc1OjEzNjljNGIwNjE3YTIyZWM3ODlkMDRjYjJjYWM4MWZlN2ExNTVmYmQ=',\n",
       "  'commit': {'author': {'name': 'Marc Pomar',\n",
       "    'email': 'marc@faable.com',\n",
       "    'date': '2020-06-01T11:28:14Z'},\n",
       "   'committer': {'name': 'Marc Pomar',\n",
       "    'email': 'marc@faable.com',\n",
       "    'date': '2020-06-01T11:28:14Z'},\n",
       "   'message': 'ejercicio completado',\n",
       "   'tree': {'sha': '489bdb97e8020c4e9e5c64c81f2195964723517e',\n",
       "    'url': 'https://api.github.com/repos/ironhack-datalabs/datamad0820/git/trees/489bdb97e8020c4e9e5c64c81f2195964723517e'},\n",
       "   'url': 'https://api.github.com/repos/ironhack-datalabs/datamad0820/git/commits/1369c4b0617a22ec789d04cb2cac81fe7a155fbd',\n",
       "   'comment_count': 0,\n",
       "   'verification': {'verified': False,\n",
       "    'reason': 'unsigned',\n",
       "    'signature': None,\n",
       "    'payload': None}},\n",
       "  'url': 'https://api.github.com/repos/ironhack-datalabs/datamad0820/commits/1369c4b0617a22ec789d04cb2cac81fe7a155fbd',\n",
       "  'html_url': 'https://github.com/ironhack-datalabs/datamad0820/commit/1369c4b0617a22ec789d04cb2cac81fe7a155fbd',\n",
       "  'comments_url': 'https://api.github.com/repos/ironhack-datalabs/datamad0820/commits/1369c4b0617a22ec789d04cb2cac81fe7a155fbd/comments',\n",
       "  'author': {'login': 'boyander',\n",
       "   'id': 568638,\n",
       "   'node_id': 'MDQ6VXNlcjU2ODYzOA==',\n",
       "   'avatar_url': 'https://avatars1.githubusercontent.com/u/568638?v=4',\n",
       "   'gravatar_id': '',\n",
       "   'url': 'https://api.github.com/users/boyander',\n",
       "   'html_url': 'https://github.com/boyander',\n",
       "   'followers_url': 'https://api.github.com/users/boyander/followers',\n",
       "   'following_url': 'https://api.github.com/users/boyander/following{/other_user}',\n",
       "   'gists_url': 'https://api.github.com/users/boyander/gists{/gist_id}',\n",
       "   'starred_url': 'https://api.github.com/users/boyander/starred{/owner}{/repo}',\n",
       "   'subscriptions_url': 'https://api.github.com/users/boyander/subscriptions',\n",
       "   'organizations_url': 'https://api.github.com/users/boyander/orgs',\n",
       "   'repos_url': 'https://api.github.com/users/boyander/repos',\n",
       "   'events_url': 'https://api.github.com/users/boyander/events{/privacy}',\n",
       "   'received_events_url': 'https://api.github.com/users/boyander/received_events',\n",
       "   'type': 'User',\n",
       "   'site_admin': False},\n",
       "  'committer': {'login': 'boyander',\n",
       "   'id': 568638,\n",
       "   'node_id': 'MDQ6VXNlcjU2ODYzOA==',\n",
       "   'avatar_url': 'https://avatars1.githubusercontent.com/u/568638?v=4',\n",
       "   'gravatar_id': '',\n",
       "   'url': 'https://api.github.com/users/boyander',\n",
       "   'html_url': 'https://github.com/boyander',\n",
       "   'followers_url': 'https://api.github.com/users/boyander/followers',\n",
       "   'following_url': 'https://api.github.com/users/boyander/following{/other_user}',\n",
       "   'gists_url': 'https://api.github.com/users/boyander/gists{/gist_id}',\n",
       "   'starred_url': 'https://api.github.com/users/boyander/starred{/owner}{/repo}',\n",
       "   'subscriptions_url': 'https://api.github.com/users/boyander/subscriptions',\n",
       "   'organizations_url': 'https://api.github.com/users/boyander/orgs',\n",
       "   'repos_url': 'https://api.github.com/users/boyander/repos',\n",
       "   'events_url': 'https://api.github.com/users/boyander/events{/privacy}',\n",
       "   'received_events_url': 'https://api.github.com/users/boyander/received_events',\n",
       "   'type': 'User',\n",
       "   'site_admin': False},\n",
       "  'parents': [{'sha': '6ff3bc11c87a4e7b729c62499bd52117e6eff71d',\n",
       "    'url': 'https://api.github.com/repos/ironhack-datalabs/datamad0820/commits/6ff3bc11c87a4e7b729c62499bd52117e6eff71d',\n",
       "    'html_url': 'https://github.com/ironhack-datalabs/datamad0820/commit/6ff3bc11c87a4e7b729c62499bd52117e6eff71d'}]},\n",
       " {'sha': '6ff3bc11c87a4e7b729c62499bd52117e6eff71d',\n",
       "  'node_id': 'MDY6Q29tbWl0Mjg4MTU0Mzc1OjZmZjNiYzExYzg3YTRlN2I3MjljNjI0OTliZDUyMTE3ZTZlZmY3MWQ=',\n",
       "  'commit': {'author': {'name': 'Felipe Ferrero',\n",
       "    'email': '52798316+ferrero-felipe@users.noreply.github.com',\n",
       "    'date': '2020-03-27T15:03:10Z'},\n",
       "   'committer': {'name': 'GitHub',\n",
       "    'email': 'noreply@github.com',\n",
       "    'date': '2020-03-27T15:03:10Z'},\n",
       "   'message': 'Merge pull request #133 from ferrero-felipe/master\\n\\nadding __pycache__/ to gitignore',\n",
       "   'tree': {'sha': 'a26220c1db1e2ef8847c8e3e712ad38f8a0e62e1',\n",
       "    'url': 'https://api.github.com/repos/ironhack-datalabs/datamad0820/git/trees/a26220c1db1e2ef8847c8e3e712ad38f8a0e62e1'},\n",
       "   'url': 'https://api.github.com/repos/ironhack-datalabs/datamad0820/git/commits/6ff3bc11c87a4e7b729c62499bd52117e6eff71d',\n",
       "   'comment_count': 0,\n",
       "   'verification': {'verified': True,\n",
       "    'reason': 'valid',\n",
       "    'signature': '-----BEGIN PGP SIGNATURE-----\\n\\nwsBcBAABCAAQBQJefhWuCRBK7hj4Ov3rIwAAdHIIABGxWDbsjSQcQ5wm9no+JHpV\\nKODJ9gfSAUDC/+BvmuhvuLO73RoH213V+Kfc4oM86Jl/UGl0/wgjaiVljjiQcilg\\nPHBJnp4xVLHfZeUgjeIgdytMOPZ24XaFG07Nai1R1ScLxP4gSydZQmMxhwCq+3b2\\n6/9Q3GmjDt56Jmibtr1DxtM8kfoCivc0M1xOXPNeChEHe4EyqPcl6NmcyzlwMhjf\\nNfzhDXLi57LShuBszV4UAYgyeymAmuc9+VE6d6fr8tYNQ+HXrqKqePvFL17TvUfq\\n4qsbsmTcEjb6A8FyBIroq5kzmiHO1p9xJz+JtP8fD/EkUvLOGKl1P2IcxCFAnMs=\\n=FocB\\n-----END PGP SIGNATURE-----\\n',\n",
       "    'payload': 'tree a26220c1db1e2ef8847c8e3e712ad38f8a0e62e1\\nparent c9d3b913fdb50a35a52778f53a928d5d3a6ec746\\nparent 817303f225cef4dd5a4c7eb9e213d1be212f51d2\\nauthor Felipe Ferrero <52798316+ferrero-felipe@users.noreply.github.com> 1585321390 +0100\\ncommitter GitHub <noreply@github.com> 1585321390 +0100\\n\\nMerge pull request #133 from ferrero-felipe/master\\n\\nadding __pycache__/ to gitignore'}},\n",
       "  'url': 'https://api.github.com/repos/ironhack-datalabs/datamad0820/commits/6ff3bc11c87a4e7b729c62499bd52117e6eff71d',\n",
       "  'html_url': 'https://github.com/ironhack-datalabs/datamad0820/commit/6ff3bc11c87a4e7b729c62499bd52117e6eff71d',\n",
       "  'comments_url': 'https://api.github.com/repos/ironhack-datalabs/datamad0820/commits/6ff3bc11c87a4e7b729c62499bd52117e6eff71d/comments',\n",
       "  'author': {'login': 'ferrero-felipe',\n",
       "   'id': 52798316,\n",
       "   'node_id': 'MDQ6VXNlcjUyNzk4MzE2',\n",
       "   'avatar_url': 'https://avatars2.githubusercontent.com/u/52798316?v=4',\n",
       "   'gravatar_id': '',\n",
       "   'url': 'https://api.github.com/users/ferrero-felipe',\n",
       "   'html_url': 'https://github.com/ferrero-felipe',\n",
       "   'followers_url': 'https://api.github.com/users/ferrero-felipe/followers',\n",
       "   'following_url': 'https://api.github.com/users/ferrero-felipe/following{/other_user}',\n",
       "   'gists_url': 'https://api.github.com/users/ferrero-felipe/gists{/gist_id}',\n",
       "   'starred_url': 'https://api.github.com/users/ferrero-felipe/starred{/owner}{/repo}',\n",
       "   'subscriptions_url': 'https://api.github.com/users/ferrero-felipe/subscriptions',\n",
       "   'organizations_url': 'https://api.github.com/users/ferrero-felipe/orgs',\n",
       "   'repos_url': 'https://api.github.com/users/ferrero-felipe/repos',\n",
       "   'events_url': 'https://api.github.com/users/ferrero-felipe/events{/privacy}',\n",
       "   'received_events_url': 'https://api.github.com/users/ferrero-felipe/received_events',\n",
       "   'type': 'User',\n",
       "   'site_admin': False},\n",
       "  'committer': {'login': 'web-flow',\n",
       "   'id': 19864447,\n",
       "   'node_id': 'MDQ6VXNlcjE5ODY0NDQ3',\n",
       "   'avatar_url': 'https://avatars3.githubusercontent.com/u/19864447?v=4',\n",
       "   'gravatar_id': '',\n",
       "   'url': 'https://api.github.com/users/web-flow',\n",
       "   'html_url': 'https://github.com/web-flow',\n",
       "   'followers_url': 'https://api.github.com/users/web-flow/followers',\n",
       "   'following_url': 'https://api.github.com/users/web-flow/following{/other_user}',\n",
       "   'gists_url': 'https://api.github.com/users/web-flow/gists{/gist_id}',\n",
       "   'starred_url': 'https://api.github.com/users/web-flow/starred{/owner}{/repo}',\n",
       "   'subscriptions_url': 'https://api.github.com/users/web-flow/subscriptions',\n",
       "   'organizations_url': 'https://api.github.com/users/web-flow/orgs',\n",
       "   'repos_url': 'https://api.github.com/users/web-flow/repos',\n",
       "   'events_url': 'https://api.github.com/users/web-flow/events{/privacy}',\n",
       "   'received_events_url': 'https://api.github.com/users/web-flow/received_events',\n",
       "   'type': 'User',\n",
       "   'site_admin': False},\n",
       "  'parents': [{'sha': 'c9d3b913fdb50a35a52778f53a928d5d3a6ec746',\n",
       "    'url': 'https://api.github.com/repos/ironhack-datalabs/datamad0820/commits/c9d3b913fdb50a35a52778f53a928d5d3a6ec746',\n",
       "    'html_url': 'https://github.com/ironhack-datalabs/datamad0820/commit/c9d3b913fdb50a35a52778f53a928d5d3a6ec746'},\n",
       "   {'sha': '817303f225cef4dd5a4c7eb9e213d1be212f51d2',\n",
       "    'url': 'https://api.github.com/repos/ironhack-datalabs/datamad0820/commits/817303f225cef4dd5a4c7eb9e213d1be212f51d2',\n",
       "    'html_url': 'https://github.com/ironhack-datalabs/datamad0820/commit/817303f225cef4dd5a4c7eb9e213d1be212f51d2'}]},\n",
       " {'sha': '817303f225cef4dd5a4c7eb9e213d1be212f51d2',\n",
       "  'node_id': 'MDY6Q29tbWl0Mjg4MTU0Mzc1OjgxNzMwM2YyMjVjZWY0ZGQ1YTRjN2ViOWUyMTNkMWJlMjEyZjUxZDI=',\n",
       "  'commit': {'author': {'name': 'ferrero-felipe',\n",
       "    'email': 'ferrero.felipe@gmail.com',\n",
       "    'date': '2020-03-27T14:59:56Z'},\n",
       "   'committer': {'name': 'ferrero-felipe',\n",
       "    'email': 'ferrero.felipe@gmail.com',\n",
       "    'date': '2020-03-27T14:59:56Z'},\n",
       "   'message': 'adding __pycache__/ to gitignore',\n",
       "   'tree': {'sha': 'a26220c1db1e2ef8847c8e3e712ad38f8a0e62e1',\n",
       "    'url': 'https://api.github.com/repos/ironhack-datalabs/datamad0820/git/trees/a26220c1db1e2ef8847c8e3e712ad38f8a0e62e1'},\n",
       "   'url': 'https://api.github.com/repos/ironhack-datalabs/datamad0820/git/commits/817303f225cef4dd5a4c7eb9e213d1be212f51d2',\n",
       "   'comment_count': 0,\n",
       "   'verification': {'verified': False,\n",
       "    'reason': 'unsigned',\n",
       "    'signature': None,\n",
       "    'payload': None}},\n",
       "  'url': 'https://api.github.com/repos/ironhack-datalabs/datamad0820/commits/817303f225cef4dd5a4c7eb9e213d1be212f51d2',\n",
       "  'html_url': 'https://github.com/ironhack-datalabs/datamad0820/commit/817303f225cef4dd5a4c7eb9e213d1be212f51d2',\n",
       "  'comments_url': 'https://api.github.com/repos/ironhack-datalabs/datamad0820/commits/817303f225cef4dd5a4c7eb9e213d1be212f51d2/comments',\n",
       "  'author': {'login': 'ferrero-felipe',\n",
       "   'id': 52798316,\n",
       "   'node_id': 'MDQ6VXNlcjUyNzk4MzE2',\n",
       "   'avatar_url': 'https://avatars2.githubusercontent.com/u/52798316?v=4',\n",
       "   'gravatar_id': '',\n",
       "   'url': 'https://api.github.com/users/ferrero-felipe',\n",
       "   'html_url': 'https://github.com/ferrero-felipe',\n",
       "   'followers_url': 'https://api.github.com/users/ferrero-felipe/followers',\n",
       "   'following_url': 'https://api.github.com/users/ferrero-felipe/following{/other_user}',\n",
       "   'gists_url': 'https://api.github.com/users/ferrero-felipe/gists{/gist_id}',\n",
       "   'starred_url': 'https://api.github.com/users/ferrero-felipe/starred{/owner}{/repo}',\n",
       "   'subscriptions_url': 'https://api.github.com/users/ferrero-felipe/subscriptions',\n",
       "   'organizations_url': 'https://api.github.com/users/ferrero-felipe/orgs',\n",
       "   'repos_url': 'https://api.github.com/users/ferrero-felipe/repos',\n",
       "   'events_url': 'https://api.github.com/users/ferrero-felipe/events{/privacy}',\n",
       "   'received_events_url': 'https://api.github.com/users/ferrero-felipe/received_events',\n",
       "   'type': 'User',\n",
       "   'site_admin': False},\n",
       "  'committer': {'login': 'ferrero-felipe',\n",
       "   'id': 52798316,\n",
       "   'node_id': 'MDQ6VXNlcjUyNzk4MzE2',\n",
       "   'avatar_url': 'https://avatars2.githubusercontent.com/u/52798316?v=4',\n",
       "   'gravatar_id': '',\n",
       "   'url': 'https://api.github.com/users/ferrero-felipe',\n",
       "   'html_url': 'https://github.com/ferrero-felipe',\n",
       "   'followers_url': 'https://api.github.com/users/ferrero-felipe/followers',\n",
       "   'following_url': 'https://api.github.com/users/ferrero-felipe/following{/other_user}',\n",
       "   'gists_url': 'https://api.github.com/users/ferrero-felipe/gists{/gist_id}',\n",
       "   'starred_url': 'https://api.github.com/users/ferrero-felipe/starred{/owner}{/repo}',\n",
       "   'subscriptions_url': 'https://api.github.com/users/ferrero-felipe/subscriptions',\n",
       "   'organizations_url': 'https://api.github.com/users/ferrero-felipe/orgs',\n",
       "   'repos_url': 'https://api.github.com/users/ferrero-felipe/repos',\n",
       "   'events_url': 'https://api.github.com/users/ferrero-felipe/events{/privacy}',\n",
       "   'received_events_url': 'https://api.github.com/users/ferrero-felipe/received_events',\n",
       "   'type': 'User',\n",
       "   'site_admin': False},\n",
       "  'parents': [{'sha': 'c9d3b913fdb50a35a52778f53a928d5d3a6ec746',\n",
       "    'url': 'https://api.github.com/repos/ironhack-datalabs/datamad0820/commits/c9d3b913fdb50a35a52778f53a928d5d3a6ec746',\n",
       "    'html_url': 'https://github.com/ironhack-datalabs/datamad0820/commit/c9d3b913fdb50a35a52778f53a928d5d3a6ec746'}]},\n",
       " {'sha': 'c9d3b913fdb50a35a52778f53a928d5d3a6ec746',\n",
       "  'node_id': 'MDY6Q29tbWl0Mjg4MTU0Mzc1OmM5ZDNiOTEzZmRiNTBhMzVhNTI3NzhmNTNhOTI4ZDVkM2E2ZWM3NDY=',\n",
       "  'commit': {'author': {'name': 'Marc Pomar',\n",
       "    'email': 'marc@faable.com',\n",
       "    'date': '2020-03-23T11:31:26Z'},\n",
       "   'committer': {'name': 'Marc Pomar',\n",
       "    'email': 'marc@faable.com',\n",
       "    'date': '2020-03-23T11:31:26Z'},\n",
       "   'message': 'hola',\n",
       "   'tree': {'sha': '118a8f97daba7d501114eebf2dafce3856382459',\n",
       "    'url': 'https://api.github.com/repos/ironhack-datalabs/datamad0820/git/trees/118a8f97daba7d501114eebf2dafce3856382459'},\n",
       "   'url': 'https://api.github.com/repos/ironhack-datalabs/datamad0820/git/commits/c9d3b913fdb50a35a52778f53a928d5d3a6ec746',\n",
       "   'comment_count': 0,\n",
       "   'verification': {'verified': False,\n",
       "    'reason': 'unsigned',\n",
       "    'signature': None,\n",
       "    'payload': None}},\n",
       "  'url': 'https://api.github.com/repos/ironhack-datalabs/datamad0820/commits/c9d3b913fdb50a35a52778f53a928d5d3a6ec746',\n",
       "  'html_url': 'https://github.com/ironhack-datalabs/datamad0820/commit/c9d3b913fdb50a35a52778f53a928d5d3a6ec746',\n",
       "  'comments_url': 'https://api.github.com/repos/ironhack-datalabs/datamad0820/commits/c9d3b913fdb50a35a52778f53a928d5d3a6ec746/comments',\n",
       "  'author': {'login': 'boyander',\n",
       "   'id': 568638,\n",
       "   'node_id': 'MDQ6VXNlcjU2ODYzOA==',\n",
       "   'avatar_url': 'https://avatars1.githubusercontent.com/u/568638?v=4',\n",
       "   'gravatar_id': '',\n",
       "   'url': 'https://api.github.com/users/boyander',\n",
       "   'html_url': 'https://github.com/boyander',\n",
       "   'followers_url': 'https://api.github.com/users/boyander/followers',\n",
       "   'following_url': 'https://api.github.com/users/boyander/following{/other_user}',\n",
       "   'gists_url': 'https://api.github.com/users/boyander/gists{/gist_id}',\n",
       "   'starred_url': 'https://api.github.com/users/boyander/starred{/owner}{/repo}',\n",
       "   'subscriptions_url': 'https://api.github.com/users/boyander/subscriptions',\n",
       "   'organizations_url': 'https://api.github.com/users/boyander/orgs',\n",
       "   'repos_url': 'https://api.github.com/users/boyander/repos',\n",
       "   'events_url': 'https://api.github.com/users/boyander/events{/privacy}',\n",
       "   'received_events_url': 'https://api.github.com/users/boyander/received_events',\n",
       "   'type': 'User',\n",
       "   'site_admin': False},\n",
       "  'committer': {'login': 'boyander',\n",
       "   'id': 568638,\n",
       "   'node_id': 'MDQ6VXNlcjU2ODYzOA==',\n",
       "   'avatar_url': 'https://avatars1.githubusercontent.com/u/568638?v=4',\n",
       "   'gravatar_id': '',\n",
       "   'url': 'https://api.github.com/users/boyander',\n",
       "   'html_url': 'https://github.com/boyander',\n",
       "   'followers_url': 'https://api.github.com/users/boyander/followers',\n",
       "   'following_url': 'https://api.github.com/users/boyander/following{/other_user}',\n",
       "   'gists_url': 'https://api.github.com/users/boyander/gists{/gist_id}',\n",
       "   'starred_url': 'https://api.github.com/users/boyander/starred{/owner}{/repo}',\n",
       "   'subscriptions_url': 'https://api.github.com/users/boyander/subscriptions',\n",
       "   'organizations_url': 'https://api.github.com/users/boyander/orgs',\n",
       "   'repos_url': 'https://api.github.com/users/boyander/repos',\n",
       "   'events_url': 'https://api.github.com/users/boyander/events{/privacy}',\n",
       "   'received_events_url': 'https://api.github.com/users/boyander/received_events',\n",
       "   'type': 'User',\n",
       "   'site_admin': False},\n",
       "  'parents': []}]"
      ]
     },
     "execution_count": 5,
     "metadata": {},
     "output_type": "execute_result"
    }
   ],
   "source": [
    "data = get_gh_v3('/repos/ironhack-datalabs/datamad0820/commits',query_params=({\"per_page\":100}))\n",
    "[i for i in data]"
   ]
  },
  {
   "cell_type": "code",
   "execution_count": 6,
   "metadata": {},
   "outputs": [
    {
     "name": "stdout",
     "output_type": "stream",
     "text": [
      "4\n"
     ]
    }
   ],
   "source": [
    "print(len(data))"
   ]
  },
  {
   "cell_type": "markdown",
   "metadata": {},
   "source": [
    "# Challenge 3 "
   ]
  },
  {
   "cell_type": "code",
   "execution_count": 7,
   "metadata": {},
   "outputs": [
    {
     "name": "stdout",
     "output_type": "stream",
     "text": [
      "Request data to https://api.github.com/repos/ironhack-datalabs/scavenger/contents?per_page=100 status_code:200\n"
     ]
    }
   ],
   "source": [
    "data = get_gh_v3('/repos/ironhack-datalabs/scavenger/contents',query_params=({\"per_page\":100}))"
   ]
  },
  {
   "cell_type": "code",
   "execution_count": 8,
   "metadata": {},
   "outputs": [
    {
     "name": "stdout",
     "output_type": "stream",
     "text": [
      "['15024', '15534', '17020', '30351', '40303', '44639', '45525', '47222', '47830', '49418', '50896', '55417', '55685', '60224', '64880', '66032', '68848', '70751', '70985', '88596', '89046', '89338', '91701', '97881', '98750']\n"
     ]
    }
   ],
   "source": [
    "lista = []\n",
    "for i in range(len(data)):\n",
    "    lista.append(data[i]['path'])\n",
    "lista = lista[1:]\n",
    "print(lista)"
   ]
  },
  {
   "cell_type": "code",
   "execution_count": 9,
   "metadata": {},
   "outputs": [
    {
     "name": "stdout",
     "output_type": "stream",
     "text": [
      "Request data to https://api.github.com/repos/ironhack-datalabs/scavenger/contents/15024?per_page=100 status_code:200\n",
      "Request data to https://api.github.com/repos/ironhack-datalabs/scavenger/contents/15534?per_page=100 status_code:200\n",
      "Request data to https://api.github.com/repos/ironhack-datalabs/scavenger/contents/17020?per_page=100 status_code:200\n",
      "Request data to https://api.github.com/repos/ironhack-datalabs/scavenger/contents/30351?per_page=100 status_code:200\n",
      "Request data to https://api.github.com/repos/ironhack-datalabs/scavenger/contents/40303?per_page=100 status_code:200\n",
      "Request data to https://api.github.com/repos/ironhack-datalabs/scavenger/contents/44639?per_page=100 status_code:200\n",
      "Request data to https://api.github.com/repos/ironhack-datalabs/scavenger/contents/45525?per_page=100 status_code:200\n",
      "Request data to https://api.github.com/repos/ironhack-datalabs/scavenger/contents/47222?per_page=100 status_code:200\n",
      "Request data to https://api.github.com/repos/ironhack-datalabs/scavenger/contents/47830?per_page=100 status_code:200\n",
      "Request data to https://api.github.com/repos/ironhack-datalabs/scavenger/contents/49418?per_page=100 status_code:200\n",
      "Request data to https://api.github.com/repos/ironhack-datalabs/scavenger/contents/50896?per_page=100 status_code:200\n",
      "Request data to https://api.github.com/repos/ironhack-datalabs/scavenger/contents/55417?per_page=100 status_code:200\n",
      "Request data to https://api.github.com/repos/ironhack-datalabs/scavenger/contents/55685?per_page=100 status_code:200\n",
      "Request data to https://api.github.com/repos/ironhack-datalabs/scavenger/contents/60224?per_page=100 status_code:200\n",
      "Request data to https://api.github.com/repos/ironhack-datalabs/scavenger/contents/64880?per_page=100 status_code:200\n",
      "Request data to https://api.github.com/repos/ironhack-datalabs/scavenger/contents/66032?per_page=100 status_code:200\n",
      "Request data to https://api.github.com/repos/ironhack-datalabs/scavenger/contents/68848?per_page=100 status_code:200\n",
      "Request data to https://api.github.com/repos/ironhack-datalabs/scavenger/contents/70751?per_page=100 status_code:200\n",
      "Request data to https://api.github.com/repos/ironhack-datalabs/scavenger/contents/70985?per_page=100 status_code:200\n",
      "Request data to https://api.github.com/repos/ironhack-datalabs/scavenger/contents/88596?per_page=100 status_code:200\n",
      "Request data to https://api.github.com/repos/ironhack-datalabs/scavenger/contents/89046?per_page=100 status_code:200\n",
      "Request data to https://api.github.com/repos/ironhack-datalabs/scavenger/contents/89338?per_page=100 status_code:200\n",
      "Request data to https://api.github.com/repos/ironhack-datalabs/scavenger/contents/91701?per_page=100 status_code:200\n",
      "Request data to https://api.github.com/repos/ironhack-datalabs/scavenger/contents/97881?per_page=100 status_code:200\n",
      "Request data to https://api.github.com/repos/ironhack-datalabs/scavenger/contents/98750?per_page=100 status_code:200\n",
      "['.0006.scavengerhunt', '.0008.scavengerhunt', '.0012.scavengerhunt', '.0007.scavengerhunt', '.0021.scavengerhunt', '.0022.scavengerhunt', '.0005.scavengerhunt', '.0018.scavengerhunt', '.0016.scavengerhunt', '.0024.scavengerhunt', '.0010.scavengerhunt', '.0014.scavengerhunt', '.0011.scavengerhunt', '.0023.scavengerhunt', '.0020.scavengerhunt', '.0003.scavengerhunt', '.0004.scavengerhunt', '.0019.scavengerhunt', '.0017.scavengerhunt', '.0002.scavengerhunt', '.0013.scavengerhunt', '.0015.scavengerhunt', '.0009.scavengerhunt', '.0001.scavengerhunt']\n"
     ]
    }
   ],
   "source": [
    "lista2 = []\n",
    "for i in lista:\n",
    "    lista2.append(f'/repos/ironhack-datalabs/scavenger/contents/{i}')\n",
    "\n",
    "lista3 = []\n",
    "for j in lista2:\n",
    "    x = get_gh_v3(j,query_params=({\"per_page\":100}))\n",
    "    for k in range(len(x)):\n",
    "        lista3.append(x[k]['name'])\n",
    "    \n",
    "#print(lista3)\n",
    "\n",
    "lista4 = []    \n",
    "for j in lista3:\n",
    "    if 'scavengerhunt' in j:\n",
    "        lista4.append(j)\n",
    "\n",
    "print(lista4) \n",
    "\n"
   ]
  },
  {
   "cell_type": "code",
   "execution_count": 10,
   "metadata": {},
   "outputs": [
    {
     "data": {
      "text/plain": [
       "24"
      ]
     },
     "execution_count": 10,
     "metadata": {},
     "output_type": "execute_result"
    }
   ],
   "source": [
    "len(lista4)"
   ]
  },
  {
   "cell_type": "code",
   "execution_count": 11,
   "metadata": {},
   "outputs": [
    {
     "data": {
      "text/plain": [
       "['.0001.scavengerhunt',\n",
       " '.0002.scavengerhunt',\n",
       " '.0003.scavengerhunt',\n",
       " '.0004.scavengerhunt',\n",
       " '.0005.scavengerhunt',\n",
       " '.0006.scavengerhunt',\n",
       " '.0007.scavengerhunt',\n",
       " '.0008.scavengerhunt',\n",
       " '.0009.scavengerhunt',\n",
       " '.0010.scavengerhunt',\n",
       " '.0011.scavengerhunt',\n",
       " '.0012.scavengerhunt',\n",
       " '.0013.scavengerhunt',\n",
       " '.0014.scavengerhunt',\n",
       " '.0015.scavengerhunt',\n",
       " '.0016.scavengerhunt',\n",
       " '.0017.scavengerhunt',\n",
       " '.0018.scavengerhunt',\n",
       " '.0019.scavengerhunt',\n",
       " '.0020.scavengerhunt',\n",
       " '.0021.scavengerhunt',\n",
       " '.0022.scavengerhunt',\n",
       " '.0023.scavengerhunt',\n",
       " '.0024.scavengerhunt']"
      ]
     },
     "execution_count": 11,
     "metadata": {},
     "output_type": "execute_result"
    }
   ],
   "source": [
    "sorted(lista4)"
   ]
  },
  {
   "cell_type": "code",
   "execution_count": 30,
   "metadata": {},
   "outputs": [
    {
     "name": "stdout",
     "output_type": "stream",
     "text": [
      "Request data to https://api.github.com/repos/ironhack-datalabs/scavenger/contents/15024?per_page=100 status_code:200\n",
      "Request data to https://api.github.com/repos/ironhack-datalabs/scavenger/contents/15534?per_page=100 status_code:200\n",
      "Request data to https://api.github.com/repos/ironhack-datalabs/scavenger/contents/17020?per_page=100 status_code:200\n",
      "Request data to https://api.github.com/repos/ironhack-datalabs/scavenger/contents/30351?per_page=100 status_code:200\n",
      "Request data to https://api.github.com/repos/ironhack-datalabs/scavenger/contents/40303?per_page=100 status_code:200\n",
      "Request data to https://api.github.com/repos/ironhack-datalabs/scavenger/contents/44639?per_page=100 status_code:200\n",
      "Request data to https://api.github.com/repos/ironhack-datalabs/scavenger/contents/45525?per_page=100 status_code:200\n",
      "Request data to https://api.github.com/repos/ironhack-datalabs/scavenger/contents/47222?per_page=100 status_code:200\n",
      "Request data to https://api.github.com/repos/ironhack-datalabs/scavenger/contents/47830?per_page=100 status_code:200\n",
      "Request data to https://api.github.com/repos/ironhack-datalabs/scavenger/contents/49418?per_page=100 status_code:200\n",
      "Request data to https://api.github.com/repos/ironhack-datalabs/scavenger/contents/50896?per_page=100 status_code:200\n",
      "Request data to https://api.github.com/repos/ironhack-datalabs/scavenger/contents/55417?per_page=100 status_code:200\n",
      "Request data to https://api.github.com/repos/ironhack-datalabs/scavenger/contents/55685?per_page=100 status_code:200\n",
      "Request data to https://api.github.com/repos/ironhack-datalabs/scavenger/contents/60224?per_page=100 status_code:200\n",
      "Request data to https://api.github.com/repos/ironhack-datalabs/scavenger/contents/64880?per_page=100 status_code:200\n",
      "Request data to https://api.github.com/repos/ironhack-datalabs/scavenger/contents/66032?per_page=100 status_code:200\n",
      "Request data to https://api.github.com/repos/ironhack-datalabs/scavenger/contents/68848?per_page=100 status_code:200\n",
      "Request data to https://api.github.com/repos/ironhack-datalabs/scavenger/contents/70751?per_page=100 status_code:200\n",
      "Request data to https://api.github.com/repos/ironhack-datalabs/scavenger/contents/70985?per_page=100 status_code:200\n",
      "Request data to https://api.github.com/repos/ironhack-datalabs/scavenger/contents/88596?per_page=100 status_code:200\n",
      "Request data to https://api.github.com/repos/ironhack-datalabs/scavenger/contents/89046?per_page=100 status_code:200\n",
      "Request data to https://api.github.com/repos/ironhack-datalabs/scavenger/contents/89338?per_page=100 status_code:200\n",
      "Request data to https://api.github.com/repos/ironhack-datalabs/scavenger/contents/91701?per_page=100 status_code:200\n",
      "Request data to https://api.github.com/repos/ironhack-datalabs/scavenger/contents/97881?per_page=100 status_code:200\n",
      "Request data to https://api.github.com/repos/ironhack-datalabs/scavenger/contents/98750?per_page=100 status_code:200\n",
      "['98750/.0001.scavengerhunt', '88596/.0002.scavengerhunt', '60224/.0003.scavengerhunt', '68848/.0004.scavengerhunt', '44639/.0005.scavengerhunt', '15024/.0006.scavengerhunt', '17020/.0007.scavengerhunt', '15534/.0008.scavengerhunt', '97881/.0009.scavengerhunt', '47830/.0010.scavengerhunt', '50896/.0011.scavengerhunt', '15534/.0012.scavengerhunt', '89338/.0013.scavengerhunt', '49418/.0014.scavengerhunt', '91701/.0015.scavengerhunt', '47222/.0016.scavengerhunt', '70985/.0017.scavengerhunt', '45525/.0018.scavengerhunt', '70751/.0019.scavengerhunt', '55685/.0020.scavengerhunt', '30351/.0021.scavengerhunt', '40303/.0022.scavengerhunt', '55417/.0023.scavengerhunt', '47222/.0024.scavengerhunt']\n",
      "Request data to https://api.github.com/repos/ironhack-datalabs/scavenger/contents/98750/.0001.scavengerhunt?per_page=100 status_code:200\n",
      "Request data to https://api.github.com/repos/ironhack-datalabs/scavenger/contents/88596/.0002.scavengerhunt?per_page=100 status_code:200\n",
      "Request data to https://api.github.com/repos/ironhack-datalabs/scavenger/contents/60224/.0003.scavengerhunt?per_page=100 status_code:200\n",
      "Request data to https://api.github.com/repos/ironhack-datalabs/scavenger/contents/68848/.0004.scavengerhunt?per_page=100 status_code:200\n",
      "Request data to https://api.github.com/repos/ironhack-datalabs/scavenger/contents/44639/.0005.scavengerhunt?per_page=100 status_code:200\n",
      "Request data to https://api.github.com/repos/ironhack-datalabs/scavenger/contents/15024/.0006.scavengerhunt?per_page=100 status_code:200\n",
      "Request data to https://api.github.com/repos/ironhack-datalabs/scavenger/contents/17020/.0007.scavengerhunt?per_page=100 status_code:200\n",
      "Request data to https://api.github.com/repos/ironhack-datalabs/scavenger/contents/15534/.0008.scavengerhunt?per_page=100 status_code:200\n",
      "Request data to https://api.github.com/repos/ironhack-datalabs/scavenger/contents/97881/.0009.scavengerhunt?per_page=100 status_code:200\n",
      "Request data to https://api.github.com/repos/ironhack-datalabs/scavenger/contents/47830/.0010.scavengerhunt?per_page=100 status_code:200\n",
      "Request data to https://api.github.com/repos/ironhack-datalabs/scavenger/contents/50896/.0011.scavengerhunt?per_page=100 status_code:200\n",
      "Request data to https://api.github.com/repos/ironhack-datalabs/scavenger/contents/15534/.0012.scavengerhunt?per_page=100 status_code:200\n",
      "Request data to https://api.github.com/repos/ironhack-datalabs/scavenger/contents/89338/.0013.scavengerhunt?per_page=100 status_code:200\n",
      "Request data to https://api.github.com/repos/ironhack-datalabs/scavenger/contents/49418/.0014.scavengerhunt?per_page=100 status_code:200\n",
      "Request data to https://api.github.com/repos/ironhack-datalabs/scavenger/contents/91701/.0015.scavengerhunt?per_page=100 status_code:200\n",
      "Request data to https://api.github.com/repos/ironhack-datalabs/scavenger/contents/47222/.0016.scavengerhunt?per_page=100 status_code:200\n",
      "Request data to https://api.github.com/repos/ironhack-datalabs/scavenger/contents/70985/.0017.scavengerhunt?per_page=100 status_code:200\n",
      "Request data to https://api.github.com/repos/ironhack-datalabs/scavenger/contents/45525/.0018.scavengerhunt?per_page=100 status_code:200\n",
      "Request data to https://api.github.com/repos/ironhack-datalabs/scavenger/contents/70751/.0019.scavengerhunt?per_page=100 status_code:200\n",
      "Request data to https://api.github.com/repos/ironhack-datalabs/scavenger/contents/55685/.0020.scavengerhunt?per_page=100 status_code:200\n",
      "Request data to https://api.github.com/repos/ironhack-datalabs/scavenger/contents/30351/.0021.scavengerhunt?per_page=100 status_code:200\n",
      "Request data to https://api.github.com/repos/ironhack-datalabs/scavenger/contents/40303/.0022.scavengerhunt?per_page=100 status_code:200\n",
      "Request data to https://api.github.com/repos/ironhack-datalabs/scavenger/contents/55417/.0023.scavengerhunt?per_page=100 status_code:200\n",
      "Request data to https://api.github.com/repos/ironhack-datalabs/scavenger/contents/47222/.0024.scavengerhunt?per_page=100 status_code:200\n",
      "['SW4K\\n', 'ZGF0YQo=\\n', 'c2NpZW5jZSwK\\n', 'ODAK\\n', 'cGVyY2VudAo=\\n', 'b2YK\\n', 'dGltZQo=\\n', 'c3BlbnQK\\n', 'aXMK\\n', 'cHJlcGFyaW5nCg==\\n', 'ZGF0YSwK\\n', 'MjAK\\n', 'cGVyY2VudAo=\\n', 'b2YK\\n', 'dGltZQo=\\n', 'aXMK\\n', 'c3BlbnQK\\n', 'Y29tcGxhaW5pbmcK\\n', 'YWJvdXQK\\n', 'dGhlCg==\\n', 'bmVlZAo=\\n', 'dG8K\\n', 'cHJlcGFyZQo=\\n', 'ZGF0YS4K\\n']\n"
     ]
    }
   ],
   "source": [
    "lista2 = []\n",
    "for i in lista:\n",
    "    lista2.append(f'/repos/ironhack-datalabs/scavenger/contents/{i}')\n",
    "\n",
    "lista3 = []\n",
    "for j in lista2:\n",
    "    x = get_gh_v3(j,query_params=({\"per_page\":100}))\n",
    "    for k in range(len(x)):\n",
    "        lista3.append(x[k]['path'])\n",
    "\n",
    "lista41 = []    \n",
    "for j in lista3:\n",
    "    if 'scavengerhunt' in j:\n",
    "        lista41.append(j)\n",
    "        \n",
    "lista100 = sorted(lista41, key= lambda x : x[9:11])\n",
    "print(lista100)        \n",
    "\n",
    "lista5 = []\n",
    "for i in lista100:\n",
    "    lista5.append(f'/repos/ironhack-datalabs/scavenger/contents/{i}')\n",
    "\n",
    "lista6 = []\n",
    "for j in lista5:\n",
    "    x = get_gh_v3(j,query_params=({\"per_page\":100}))\n",
    "    lista6.append(x['content'])\n",
    "print(lista6)"
   ]
  },
  {
   "cell_type": "code",
   "execution_count": 31,
   "metadata": {},
   "outputs": [
    {
     "data": {
      "text/plain": [
       "\"[b'In\\\\n', b'data\\\\n', b'science,\\\\n', b'80\\\\n', b'percent\\\\n', b'of\\\\n', b'time\\\\n', b'spent\\\\n', b'is\\\\n', b'preparing\\\\n', b'data,\\\\n', b'20\\\\n', b'percent\\\\n', b'of\\\\n', b'time\\\\n', b'is\\\\n', b'spent\\\\n', b'complaining\\\\n', b'about\\\\n', b'the\\\\n', b'need\\\\n', b'to\\\\n', b'prepare\\\\n', b'data.\\\\n']\""
      ]
     },
     "execution_count": 31,
     "metadata": {},
     "output_type": "execute_result"
    }
   ],
   "source": [
    "joke = [base64.b64decode(i) for i in lista6]\n",
    "str(joke)"
   ]
  },
  {
   "cell_type": "code",
   "execution_count": 60,
   "metadata": {},
   "outputs": [
    {
     "name": "stdout",
     "output_type": "stream",
     "text": [
      "['In\\n', 'data\\n', 'science,\\n', '80\\n', 'percent\\n', 'of\\n', 'time\\n', 'spent\\n', 'is\\n', 'preparing\\n', 'data,\\n', '20\\n', 'percent\\n', 'of\\n', 'time\\n', 'is\\n', 'spent\\n', 'complaining\\n', 'about\\n', 'the\\n', 'need\\n', 'to\\n', 'prepare\\n', 'data.\\n']\n"
     ]
    }
   ],
   "source": [
    "broma = [i.decode('UTF-8') for i in joke]\n",
    "print(broma)"
   ]
  },
  {
   "cell_type": "code",
   "execution_count": 61,
   "metadata": {},
   "outputs": [
    {
     "name": "stdout",
     "output_type": "stream",
     "text": [
      "In data science, 80 percent of time spent is preparing data, 20 percent of time is spent complaining about the need to prepare data.\n"
     ]
    }
   ],
   "source": [
    "resultado = []\n",
    "for i in broma:\n",
    "    resultado.append(str(i[:-1]))\n",
    "    \n",
    "resultado = ' '.join(resultado)     \n",
    "print(resultado)"
   ]
  },
  {
   "cell_type": "code",
   "execution_count": null,
   "metadata": {},
   "outputs": [],
   "source": []
  }
 ],
 "metadata": {
  "kernelspec": {
   "display_name": "Python 3",
   "language": "python",
   "name": "python3"
  },
  "language_info": {
   "codemirror_mode": {
    "name": "ipython",
    "version": 3
   },
   "file_extension": ".py",
   "mimetype": "text/x-python",
   "name": "python",
   "nbconvert_exporter": "python",
   "pygments_lexer": "ipython3",
   "version": "3.8.5"
  }
 },
 "nbformat": 4,
 "nbformat_minor": 4
}
